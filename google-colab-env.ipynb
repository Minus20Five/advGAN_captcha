{
  "nbformat": 4,
  "nbformat_minor": 0,
  "metadata": {
    "colab": {
      "name": "google-colab-env.ipynb",
      "provenance": [],
      "private_outputs": true,
      "toc_visible": true
    },
    "kernelspec": {
      "name": "python3",
      "display_name": "Python 3"
    },
    "accelerator": "GPU"
  },
  "cells": [
    {
      "cell_type": "markdown",
      "metadata": {
        "id": "V_1WtKzAaQQX",
        "colab_type": "text"
      },
      "source": [
        "# Use this notebook to train on Google's free colab GPU's"
      ]
    },
    {
      "cell_type": "markdown",
      "metadata": {
        "id": "TfzGmcovad3c",
        "colab_type": "text"
      },
      "source": [
        "Check GPU runtime type"
      ]
    },
    {
      "cell_type": "code",
      "metadata": {
        "id": "Kr0iD7sbpMin",
        "colab_type": "code",
        "colab": {}
      },
      "source": [
        "import tensorflow as tf\n",
        "tf.test.gpu_device_name()"
      ],
      "execution_count": 0,
      "outputs": []
    },
    {
      "cell_type": "markdown",
      "metadata": {
        "id": "bRuyEkSRanTL",
        "colab_type": "text"
      },
      "source": [
        "Enumerate GPU and RAM resources"
      ]
    },
    {
      "cell_type": "code",
      "metadata": {
        "id": "sP1_9ogmpVT3",
        "colab_type": "code",
        "colab": {}
      },
      "source": [
        "# memory footprint support libraries/code\n",
        "!ln -sf /opt/bin/nvidia-smi /usr/bin/nvidia-smi\n",
        "!pip install gputil\n",
        "!pip install psutil\n",
        "!pip install humanize\n",
        "import psutil\n",
        "import humanize\n",
        "import os\n",
        "import GPUtil as GPU\n",
        "GPUs = GPU.getGPUs()\n",
        "# XXX: only one GPU on Colab and isn’t guaranteed\n",
        "gpu = GPUs[0]\n",
        "def printm():\n",
        " process = psutil.Process(os.getpid())\n",
        " print(\"Gen RAM Free: \" + humanize.naturalsize( psutil.virtual_memory().available ), \" | Proc size: \" + humanize.naturalsize( process.memory_info().rss))\n",
        " print(\"GPU RAM Free: {0:.0f}MB | Used: {1:.0f}MB | Util {2:3.0f}% | Total {3:.0f}MB\".format(gpu.memoryFree, gpu.memoryUsed, gpu.memoryUtil*100, gpu.memoryTotal))\n",
        "printm() "
      ],
      "execution_count": 0,
      "outputs": []
    },
    {
      "cell_type": "markdown",
      "metadata": {
        "id": "0MNIDNTcasz4",
        "colab_type": "text"
      },
      "source": [
        "Mount Google Drive to Colab (need to authenticate)"
      ]
    },
    {
      "cell_type": "code",
      "metadata": {
        "id": "EikctOnPoYyb",
        "colab_type": "code",
        "colab": {}
      },
      "source": [
        "from google.colab import drive\n",
        "# drive.flush_and_unmount()\n",
        "drive.mount('/content/drive')\n",
        "\n",
        "\n"
      ],
      "execution_count": 0,
      "outputs": []
    },
    {
      "cell_type": "markdown",
      "metadata": {
        "id": "bLObSREfa62J",
        "colab_type": "text"
      },
      "source": [
        "Clone the repo into Google Drive fuse"
      ]
    },
    {
      "cell_type": "code",
      "metadata": {
        "id": "tCDyDpWgM6TF",
        "colab_type": "code",
        "colab": {}
      },
      "source": [
        "%cd /content/drive/My\\ Drive\n",
        "!git clone https://github.com/Minus20Five/advGAN_captcha.git"
      ],
      "execution_count": 0,
      "outputs": []
    },
    {
      "cell_type": "markdown",
      "metadata": {
        "id": "BThP_kN8bEoe",
        "colab_type": "text"
      },
      "source": [
        "Run following code to pull changes (assuming directory exists)"
      ]
    },
    {
      "cell_type": "code",
      "metadata": {
        "id": "Vay-MZR7Tkte",
        "colab_type": "code",
        "colab": {}
      },
      "source": [
        "%cd /content/drive/My\\ Drive/advGAN_captcha\n",
        "# !git pull\n",
        "\n",
        "# Force a pull\n",
        "!git fetch --all\n",
        "!git reset --hard origin/master"
      ],
      "execution_count": 0,
      "outputs": []
    },
    {
      "cell_type": "markdown",
      "metadata": {
        "id": "-Sd4VG8HKSOu",
        "colab_type": "text"
      },
      "source": [
        "Get my dataset [here](https://drive.google.com/open?id=1GjPE_Z6c_tJrsWAmyItG-5WPzy-MKkBT) or use your own \n",
        "\n",
        "Extract the dataset to the hosted runtime.\n",
        "Don't use Google Drive it is slow af.\n"
      ]
    },
    {
      "cell_type": "code",
      "metadata": {
        "id": "2sgW1qywKsFD",
        "colab_type": "code",
        "colab": {}
      },
      "source": [
        "# Assumes dataset is at /760_datasets/CAPTCHA_90K.tar.g inside your Google Drive\n",
        "!tar -xzf /content/drive/My\\ Drive/760_datasets/CAPTCHA_90K.tar.gz -C /content/\n"
      ],
      "execution_count": 0,
      "outputs": []
    },
    {
      "cell_type": "markdown",
      "metadata": {
        "id": "5etRZ8UBVkHs",
        "colab_type": "text"
      },
      "source": [
        "Change the path to your new dataset location"
      ]
    },
    {
      "cell_type": "code",
      "metadata": {
        "id": "9qrtlbcKaAKg",
        "colab_type": "code",
        "colab": {}
      },
      "source": [
        "%cd /content/drive/My\\ Drive/advGAN_captcha\n",
        "from solver import captcha_setting\n",
        "\n",
        "captcha_setting.TRAIN_DATASET_PATH = \"/content/data/train\"\n",
        "captcha_setting.TEST_DATASET_PATH = \"/content/data/test\"\n",
        "captcha_setting.MODEL_SAVE_PATH = \"/content/model.pkl\""
      ],
      "execution_count": 0,
      "outputs": []
    },
    {
      "cell_type": "markdown",
      "metadata": {
        "id": "NlAjaMfyce-y",
        "colab_type": "text"
      },
      "source": [
        "Training the solver"
      ]
    },
    {
      "cell_type": "code",
      "metadata": {
        "id": "E246CH19iM88",
        "colab_type": "code",
        "colab": {}
      },
      "source": [
        "%cd /content/drive/My\\ Drive/advGAN_captcha\n",
        "from solver import captcha_train\n",
        "\n",
        "captcha_train.main()"
      ],
      "execution_count": 0,
      "outputs": []
    },
    {
      "cell_type": "markdown",
      "metadata": {
        "id": "T74jLzIXnwto",
        "colab_type": "text"
      },
      "source": [
        "Test the solver"
      ]
    },
    {
      "cell_type": "code",
      "metadata": {
        "id": "0Ix_UOT1nwa8",
        "colab_type": "code",
        "colab": {}
      },
      "source": [
        "%cd /content/drive/My\\ Drive/advGAN_captcha\n",
        "from solver import captcha_test\n",
        "\n",
        "captcha_test.main()"
      ],
      "execution_count": 0,
      "outputs": []
    }
  ]
}
